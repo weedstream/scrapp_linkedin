{
 "cells": [
  {
   "cell_type": "code",
   "execution_count": 1,
   "metadata": {},
   "outputs": [],
   "source": [
    "from selenium import webdriver\n",
    "\n",
    "from selenium.webdriver.common.by import By\n",
    "\n",
    "from bs4 import BeautifulSoup\n",
    "\n",
    "import time\n",
    " \n",
    "# Creating an instance\n",
    "\n",
    "driver = webdriver.Chrome()\n",
    " \n",
    "# Logging into LinkedIn\n",
    "\n",
    "driver.get(\"https://linkedin.com/uas/login\")\n",
    "\n",
    "time.sleep(5)\n",
    " \n",
    "\n",
    "username = driver.find_element(By.ID, \"username\")\n",
    "\n",
    "username.send_keys(\"insobyyman@gmail.com\")  # Enter Your Email Address\n",
    " \n",
    "\n",
    "pword = driver.find_element(By.ID, \"password\")\n",
    "\n",
    "pword.send_keys(\"\")        # Enter Your Password\n",
    " \n",
    "\n",
    "driver.find_element(By.XPATH, \"//button[@type='submit']\").click()\n",
    " \n",
    "# Opening Kunal's Profile\n",
    "# paste the URL of Kunal's profile here\n",
    "\n",
    "profile_url = \"https://www.linkedin.com/in/lunar-echo-78a918299/\"\n",
    " \n",
    "\n",
    "driver.get(profile_url)        # this will open the link"
   ]
  },
  {
   "cell_type": "code",
   "execution_count": 3,
   "metadata": {},
   "outputs": [],
   "source": [
    "start = time.time()\n",
    " \n",
    "# will be used in the while loop\n",
    "\n",
    "initialScroll = 0\n",
    "\n",
    "finalScroll = 1000\n",
    " \n",
    "\n",
    "while True:\n",
    "\n",
    "    driver.execute_script(f\"window.scrollTo({initialScroll},{finalScroll})\")\n",
    "\n",
    "    # this command scrolls the window starting from\n",
    "\n",
    "    # the pixel value stored in the initialScroll \n",
    "\n",
    "    # variable to the pixel value stored at the\n",
    "\n",
    "    # finalScroll variable\n",
    "\n",
    "    initialScroll = finalScroll\n",
    "\n",
    "    finalScroll += 1000\n",
    " \n",
    "\n",
    "    # we will stop the script for 3 seconds so that \n",
    "\n",
    "    # the data can load\n",
    "\n",
    "    time.sleep(3)\n",
    "\n",
    "    # You can change it as per your needs and internet speed\n",
    " \n",
    "\n",
    "    end = time.time()\n",
    " \n",
    "\n",
    "    # We will scroll for 20 seconds.\n",
    "\n",
    "    # You can change it as per your needs and internet speed\n",
    "\n",
    "    if round(end - start) > 20:\n",
    "\n",
    "        break"
   ]
  },
  {
   "cell_type": "code",
   "execution_count": 4,
   "metadata": {},
   "outputs": [],
   "source": [
    "src = driver.page_source\n",
    " \n",
    "# Now using beautiful soup\n",
    "\n",
    "soup = BeautifulSoup(src, 'lxml')"
   ]
  },
  {
   "cell_type": "code",
   "execution_count": 5,
   "metadata": {},
   "outputs": [
    {
     "name": "stdout",
     "output_type": "stream",
     "text": [
      "<div class=\"pv-text-details__left-panel\">\n",
      "<div class=\"pv-text-details__title\">\n",
      "<span class=\"artdeco-hoverable-trigger artdeco-hoverable-trigger--content-placed-bottom artdeco-hoverable-trigger--is-hoverable ember-view\" id=\"ember36\" tabindex=\"-1\">\n",
      "<a class=\"ember-view pv-text-details__about-this-profile-entrypoint\" href=\"/in/lunar-echo-78a918299/overlay/about-this-profile/\" id=\"ember37\">\n",
      "<h1 class=\"text-heading-xlarge inline t-24 v-align-middle break-words\">lunar echo</h1>\n",
      "<!-- --><!-- --> </a>\n",
      "<div class=\"ember-view\" id=\"artdeco-gen-42\"><div class=\"ember-view\" id=\"ember39\"></div></div>\n",
      "</span>\n",
      "<!-- --><!-- --><!-- --> </div>\n",
      "<!-- --> <div class=\"text-body-medium break-words\" data-generated-suggestion-target=\"urn:li:fsu_profileActionDelegate:582856218\">\n",
      "          Web Developer at Menti\n",
      "        </div>\n",
      "<!-- --><!-- --><!-- --> </div>\n"
     ]
    }
   ],
   "source": [
    "# Extracting the HTML of the complete introduction box\n",
    "# that contains the name, company name, and the location\n",
    "\n",
    "intro = soup.find('div', {'class': 'pv-text-details__left-panel'})\n",
    " \n",
    "\n",
    "print(intro)"
   ]
  },
  {
   "cell_type": "code",
   "execution_count": 7,
   "metadata": {},
   "outputs": [
    {
     "name": "stdout",
     "output_type": "stream",
     "text": [
      "Name --> lunar echo \n",
      "Works At --> Web Developer at Menti \n",
      "Location --> Location not found\n"
     ]
    }
   ],
   "source": [
    "# In case of an error, try changing the tags used here.\n",
    " \n",
    "\n",
    "name_loc = intro.find(\"h1\")\n",
    " \n",
    "# Extracting the Name\n",
    "\n",
    "name = name_loc.get_text().strip()\n",
    "# strip() is used to remove any extra blank spaces\n",
    " \n",
    "\n",
    "works_at_loc = intro.find(\"div\", {'class': 'text-body-medium'})\n",
    " \n",
    "# this gives us the HTML of the tag in which the Company Name is present\n",
    "# Extracting the Company Name\n",
    "\n",
    "works_at = works_at_loc.get_text().strip()\n",
    " \n",
    " \n",
    "\n",
    "location_loc = intro.find_all(\"span\", {'class': 'text-body-small'})\n",
    " \n",
    "# Ectracting the Location\n",
    "# The 2nd element in the location_loc variable has the location\n",
    "\n",
    "if location_loc:\n",
    "    location = location_loc[0].get_text().strip()\n",
    "else:\n",
    "    location = \"Location not found\"\n",
    " \n",
    "\n",
    "print(\"Name -->\", name,\n",
    "\n",
    "      \"\\nWorks At -->\", works_at,\n",
    "\n",
    "      \"\\nLocation -->\", location)"
   ]
  },
  {
   "cell_type": "code",
   "execution_count": 9,
   "metadata": {},
   "outputs": [
    {
     "name": "stdout",
     "output_type": "stream",
     "text": [
      "Experience section not found on the page\n"
     ]
    }
   ],
   "source": [
    "# Getting the HTML of the Experience section in the profile\n",
    "\n",
    "experience_section = soup.find(\"section\", {\"id\": \"experience-section\"})\n",
    "\n",
    "if experience_section:\n",
    "    experience_list = experience_section.find('ul')\n",
    "    print(experience_list)\n",
    "else:\n",
    "    print(\"Experience section not found on the page\")\n",
    "\n",
    " "
   ]
  },
  {
   "cell_type": "code",
   "execution_count": 11,
   "metadata": {},
   "outputs": [
    {
     "name": "stdout",
     "output_type": "stream",
     "text": [
      "Experience section not found on the page\n"
     ]
    }
   ],
   "source": [
    "# In case of an error, try changing the tags used here.\n",
    " \n",
    "\n",
    "experience_section = soup.find(\"section\", {\"id\": \"experience-section\"})\n",
    "\n",
    "if experience_section:\n",
    "    li_tags = experience_section.find('div')\n",
    "    a_tags = li_tags.find(\"a\")\n",
    "\n",
    "    job_title = a_tags.find(\"h3\").get_text().strip()\n",
    "    print(job_title)\n",
    "\n",
    "    company_name = a_tags.find_all(\"p\")[1].get_text().strip()\n",
    "    print(company_name)\n",
    "\n",
    "    joining_date = a_tags.find_all(\"h4\")[0].find_all(\"span\")[1].get_text().strip()\n",
    "    employment_duration = a_tags.find_all(\"h4\")[1].find_all(\"span\")[1].get_text().strip()\n",
    "\n",
    "    print(joining_date + \", \" + employment_duration)\n",
    "else:\n",
    "    print(\"Experience section not found on the page\")\n"
   ]
  },
  {
   "cell_type": "code",
   "execution_count": 13,
   "metadata": {},
   "outputs": [
    {
     "ename": "TimeoutException",
     "evalue": "Message: \nStacktrace:\n\tGetHandleVerifier [0x00007FF7C2ED8EF2+54786]\n\t(No symbol) [0x00007FF7C2E45612]\n\t(No symbol) [0x00007FF7C2CFA64B]\n\t(No symbol) [0x00007FF7C2D3B79C]\n\t(No symbol) [0x00007FF7C2D3B91C]\n\t(No symbol) [0x00007FF7C2D76D87]\n\t(No symbol) [0x00007FF7C2D5BEAF]\n\t(No symbol) [0x00007FF7C2D74D02]\n\t(No symbol) [0x00007FF7C2D5BC43]\n\t(No symbol) [0x00007FF7C2D30941]\n\t(No symbol) [0x00007FF7C2D31B84]\n\tGetHandleVerifier [0x00007FF7C3227F52+3524194]\n\tGetHandleVerifier [0x00007FF7C327D800+3874576]\n\tGetHandleVerifier [0x00007FF7C3275D7F+3843215]\n\tGetHandleVerifier [0x00007FF7C2F75086+694166]\n\t(No symbol) [0x00007FF7C2E50A88]\n\t(No symbol) [0x00007FF7C2E4CA94]\n\t(No symbol) [0x00007FF7C2E4CBC2]\n\t(No symbol) [0x00007FF7C2E3CC83]\n\tBaseThreadInitThunk [0x00007FFC9572257D+29]\n\tRtlUserThreadStart [0x00007FFC96E4AA78+40]\n",
     "output_type": "error",
     "traceback": [
      "\u001b[1;31m---------------------------------------------------------------------------\u001b[0m",
      "\u001b[1;31mTimeoutException\u001b[0m                          Traceback (most recent call last)",
      "\u001b[1;32mc:\\Users\\Ipang\\Documents\\Project\\Scrap Proj\\gog_scrap.ipynb Cell 8\u001b[0m line \u001b[0;36m7\n\u001b[0;32m      <a href='vscode-notebook-cell:/c%3A/Users/Ipang/Documents/Project/Scrap%20Proj/gog_scrap.ipynb#X10sZmlsZQ%3D%3D?line=4'>5</a>\u001b[0m \u001b[39m# Wait for up to 10 seconds for the element to be clickable\u001b[39;00m\n\u001b[0;32m      <a href='vscode-notebook-cell:/c%3A/Users/Ipang/Documents/Project/Scrap%20Proj/gog_scrap.ipynb#X10sZmlsZQ%3D%3D?line=5'>6</a>\u001b[0m wait \u001b[39m=\u001b[39m WebDriverWait(driver, \u001b[39m10\u001b[39m)\n\u001b[1;32m----> <a href='vscode-notebook-cell:/c%3A/Users/Ipang/Documents/Project/Scrap%20Proj/gog_scrap.ipynb#X10sZmlsZQ%3D%3D?line=6'>7</a>\u001b[0m element \u001b[39m=\u001b[39m wait\u001b[39m.\u001b[39;49muntil(EC\u001b[39m.\u001b[39;49melement_to_be_clickable((By\u001b[39m.\u001b[39;49mXPATH, \u001b[39m\"\u001b[39;49m\u001b[39m//a[@data-link-to=\u001b[39;49m\u001b[39m'\u001b[39;49m\u001b[39mjobs\u001b[39;49m\u001b[39m'\u001b[39;49m\u001b[39m]/span\u001b[39;49m\u001b[39m\"\u001b[39;49m)))\n\u001b[0;32m      <a href='vscode-notebook-cell:/c%3A/Users/Ipang/Documents/Project/Scrap%20Proj/gog_scrap.ipynb#X10sZmlsZQ%3D%3D?line=8'>9</a>\u001b[0m \u001b[39m# Perform the click after the element is clickable\u001b[39;00m\n\u001b[0;32m     <a href='vscode-notebook-cell:/c%3A/Users/Ipang/Documents/Project/Scrap%20Proj/gog_scrap.ipynb#X10sZmlsZQ%3D%3D?line=9'>10</a>\u001b[0m element\u001b[39m.\u001b[39mclick()\n",
      "File \u001b[1;32m~\\AppData\\Roaming\\Python\\Python311\\site-packages\\selenium\\webdriver\\support\\wait.py:101\u001b[0m, in \u001b[0;36mWebDriverWait.until\u001b[1;34m(self, method, message)\u001b[0m\n\u001b[0;32m     99\u001b[0m     \u001b[39mif\u001b[39;00m time\u001b[39m.\u001b[39mmonotonic() \u001b[39m>\u001b[39m end_time:\n\u001b[0;32m    100\u001b[0m         \u001b[39mbreak\u001b[39;00m\n\u001b[1;32m--> 101\u001b[0m \u001b[39mraise\u001b[39;00m TimeoutException(message, screen, stacktrace)\n",
      "\u001b[1;31mTimeoutException\u001b[0m: Message: \nStacktrace:\n\tGetHandleVerifier [0x00007FF7C2ED8EF2+54786]\n\t(No symbol) [0x00007FF7C2E45612]\n\t(No symbol) [0x00007FF7C2CFA64B]\n\t(No symbol) [0x00007FF7C2D3B79C]\n\t(No symbol) [0x00007FF7C2D3B91C]\n\t(No symbol) [0x00007FF7C2D76D87]\n\t(No symbol) [0x00007FF7C2D5BEAF]\n\t(No symbol) [0x00007FF7C2D74D02]\n\t(No symbol) [0x00007FF7C2D5BC43]\n\t(No symbol) [0x00007FF7C2D30941]\n\t(No symbol) [0x00007FF7C2D31B84]\n\tGetHandleVerifier [0x00007FF7C3227F52+3524194]\n\tGetHandleVerifier [0x00007FF7C327D800+3874576]\n\tGetHandleVerifier [0x00007FF7C3275D7F+3843215]\n\tGetHandleVerifier [0x00007FF7C2F75086+694166]\n\t(No symbol) [0x00007FF7C2E50A88]\n\t(No symbol) [0x00007FF7C2E4CA94]\n\t(No symbol) [0x00007FF7C2E4CBC2]\n\t(No symbol) [0x00007FF7C2E3CC83]\n\tBaseThreadInitThunk [0x00007FFC9572257D+29]\n\tRtlUserThreadStart [0x00007FFC96E4AA78+40]\n"
     ]
    }
   ],
   "source": [
    "jobs = driver.find_element(By.XPATH, \"//a[@data-link-to='jobs']/span\")\n",
    "# In case of an error, try changing the XPath.\n",
    " \n",
    "jobs.click()"
   ]
  },
  {
   "cell_type": "code",
   "execution_count": 14,
   "metadata": {},
   "outputs": [],
   "source": [
    "job_src = driver.page_source\n",
    " \n",
    "\n",
    "soup = BeautifulSoup(job_src, 'lxml') "
   ]
  },
  {
   "cell_type": "code",
   "execution_count": 15,
   "metadata": {},
   "outputs": [
    {
     "name": "stdout",
     "output_type": "stream",
     "text": [
      "[]\n"
     ]
    }
   ],
   "source": [
    "jobs_html = soup.find_all('a', {'class': 'job-card-list__title'})\n",
    "# In case of an error, try changing the XPath.\n",
    " \n",
    "\n",
    "job_titles = []\n",
    " \n",
    "\n",
    "for title in jobs_html:\n",
    "\n",
    "    job_titles.append(title.text.strip())\n",
    " \n",
    "\n",
    "print(job_titles)\n",
    " "
   ]
  },
  {
   "cell_type": "code",
   "execution_count": 16,
   "metadata": {},
   "outputs": [
    {
     "name": "stdout",
     "output_type": "stream",
     "text": [
      "[]\n"
     ]
    }
   ],
   "source": [
    "company_name_html = soup.find_all(\n",
    "\n",
    "  'div', {'class': 'job-card-container__company-name'})\n",
    "\n",
    "company_names = []\n",
    " \n",
    "\n",
    "for name in company_name_html:\n",
    "\n",
    "    company_names.append(name.text.strip())\n",
    " \n",
    "\n",
    "print(company_names)"
   ]
  },
  {
   "cell_type": "code",
   "execution_count": 17,
   "metadata": {},
   "outputs": [
    {
     "name": "stdout",
     "output_type": "stream",
     "text": [
      "[]\n"
     ]
    }
   ],
   "source": [
    "import re   # for removing the extra blank spaces\n",
    " \n",
    "\n",
    "location_html = soup.find_all(\n",
    "\n",
    "    'ul', {'class': 'job-card-container__metadata-wrapper'})\n",
    " \n",
    "\n",
    "location_list = []\n",
    " \n",
    "\n",
    "for loc in location_html:\n",
    "\n",
    "    res = re.sub('\\n\\n +', ' ', loc.text.strip())\n",
    " \n",
    "\n",
    "    location_list.append(res)\n",
    " \n",
    "\n",
    "print(location_list)\n",
    " "
   ]
  }
 ],
 "metadata": {
  "kernelspec": {
   "display_name": "Python 3",
   "language": "python",
   "name": "python3"
  },
  "language_info": {
   "codemirror_mode": {
    "name": "ipython",
    "version": 3
   },
   "file_extension": ".py",
   "mimetype": "text/x-python",
   "name": "python",
   "nbconvert_exporter": "python",
   "pygments_lexer": "ipython3",
   "version": "3.11.5"
  }
 },
 "nbformat": 4,
 "nbformat_minor": 2
}
